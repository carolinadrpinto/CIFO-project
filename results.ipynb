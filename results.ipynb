{
 "cells": [
  {
   "cell_type": "markdown",
   "id": "2b4b4c74",
   "metadata": {},
   "source": [
    "# 1. Imports"
   ]
  },
  {
   "cell_type": "code",
   "execution_count": 1,
   "id": "25897339",
   "metadata": {},
   "outputs": [],
   "source": [
    "import matplotlib.pyplot as plt"
   ]
  },
  {
   "cell_type": "code",
   "execution_count": 2,
   "id": "21ea30ca",
   "metadata": {},
   "outputs": [],
   "source": [
    "from MFLUSolution import LUSolution, LUGASolution"
   ]
  },
  {
   "cell_type": "code",
   "execution_count": 3,
   "id": "81e762ea",
   "metadata": {},
   "outputs": [],
   "source": [
    "from selection_and_operators.mutation import swap_stages_slots_mutation\n",
    "from selection_and_operators.crossover import cycle_crossover\n",
    "from selection_and_operators.selection import ranking_selection, tournament_selection\n",
    "from library.algorithm import genetic_algorithm"
   ]
  },
  {
   "cell_type": "markdown",
   "id": "d2a96f8c",
   "metadata": {},
   "source": [
    "# (Espaço para testes, depois é apagado)"
   ]
  },
  {
   "cell_type": "code",
   "execution_count": 4,
   "id": "7fc15976",
   "metadata": {},
   "outputs": [
    {
     "data": {
      "text/plain": [
       "[[23, 2, 34, 12, 13, 26, 9],\n",
       " [21, 8, 5, 6, 4, 7, 30],\n",
       " [11, 31, 17, 3, 20, 28, 27],\n",
       " [0, 22, 24, 10, 16, 1, 14],\n",
       " [25, 33, 32, 19, 18, 29, 15]]"
      ]
     },
     "execution_count": 4,
     "metadata": {},
     "output_type": "execute_result"
    }
   ],
   "source": [
    "import random\n",
    "repr = []\n",
    "artists = list(range(35))\n",
    "random.shuffle(artists)\n",
    "repr = [artists[i * 7:(i + 1) * 7] for i in range(5)]\n",
    "repr"
   ]
  },
  {
   "cell_type": "code",
   "execution_count": 5,
   "id": "fc311966",
   "metadata": {},
   "outputs": [],
   "source": [
    "solution= LUSolution(repr=repr)"
   ]
  },
  {
   "cell_type": "code",
   "execution_count": 6,
   "id": "ff26879b",
   "metadata": {},
   "outputs": [
    {
     "data": {
      "text/plain": [
       "[[23, 2, 34, 12, 13, 26, 9], [21, 8, 5, 6, 4, 7, 30], [11, 31, 17, 3, 20, 28, 27], [0, 22, 24, 10, 16, 1, 14], [25, 33, 32, 19, 18, 29, 15]]"
      ]
     },
     "execution_count": 6,
     "metadata": {},
     "output_type": "execute_result"
    }
   ],
   "source": [
    "solution"
   ]
  },
  {
   "cell_type": "code",
   "execution_count": 7,
   "id": "9f49b2ce",
   "metadata": {},
   "outputs": [],
   "source": [
    "solution=LUGASolution(\n",
    "        crossover_function=cycle_crossover,\n",
    "        mutation_function=swap_stages_slots_mutation,\n",
    "        repr=repr\n",
    "    )"
   ]
  },
  {
   "cell_type": "code",
   "execution_count": 8,
   "id": "5e894e9a",
   "metadata": {},
   "outputs": [
    {
     "data": {
      "text/plain": [
       "[[23, 2, 34, 12, 13, 26, 9], [21, 8, 5, 6, 4, 7, 30], [11, 31, 17, 3, 20, 28, 27], [0, 22, 24, 10, 16, 1, 14], [25, 33, 32, 19, 18, 29, 15]]"
      ]
     },
     "execution_count": 8,
     "metadata": {},
     "output_type": "execute_result"
    }
   ],
   "source": [
    "solution"
   ]
  },
  {
   "cell_type": "code",
   "execution_count": 9,
   "id": "b8ce9b5b",
   "metadata": {},
   "outputs": [
    {
     "data": {
      "text/plain": [
       "0.5543277847537483"
      ]
     },
     "execution_count": 9,
     "metadata": {},
     "output_type": "execute_result"
    }
   ],
   "source": [
    "solution.fitness()"
   ]
  },
  {
   "cell_type": "code",
   "execution_count": 10,
   "id": "d4077e79",
   "metadata": {},
   "outputs": [
    {
     "data": {
      "text/plain": [
       "[[23, 2, 34, 12, 13, 26, 9], [21, 8, 5, 6, 4, 7, 30], [11, 31, 17, 3, 20, 28, 27], [0, 22, 24, 10, 16, 1, 14], [25, 33, 32, 19, 18, 29, 15]]"
      ]
     },
     "execution_count": 10,
     "metadata": {},
     "output_type": "execute_result"
    }
   ],
   "source": [
    "solution"
   ]
  },
  {
   "cell_type": "code",
   "execution_count": 11,
   "id": "9cbff9e8",
   "metadata": {},
   "outputs": [
    {
     "data": {
      "text/plain": [
       "[[23, 2, 34, 12, 13, 26, 9], [21, 8, 5, 6, 4, 7, 30], [11, 31, 17, 3, 20, 28, 27], [0, 22, 24, 10, 16, 1, 14], [25, 33, 32, 19, 18, 29, 15]]"
      ]
     },
     "execution_count": 11,
     "metadata": {},
     "output_type": "execute_result"
    }
   ],
   "source": [
    "solution.mutation(mut_prob=0)"
   ]
  },
  {
   "cell_type": "code",
   "execution_count": 12,
   "id": "2a01c53b",
   "metadata": {},
   "outputs": [],
   "source": [
    "solution_new=LUGASolution(\n",
    "        crossover_function=cycle_crossover,\n",
    "        mutation_function=swap_stages_slots_mutation)"
   ]
  },
  {
   "cell_type": "code",
   "execution_count": 13,
   "id": "58bda0dd",
   "metadata": {},
   "outputs": [
    {
     "data": {
      "text/plain": [
       "[[5, 18, 27, 23, 7, 3, 33], [6, 29, 4, 20, 32, 34, 10], [13, 21, 26, 22, 12, 30, 8], [19, 9, 16, 24, 11, 15, 0], [14, 1, 31, 17, 28, 25, 2]]"
      ]
     },
     "execution_count": 13,
     "metadata": {},
     "output_type": "execute_result"
    }
   ],
   "source": [
    "solution_new"
   ]
  },
  {
   "cell_type": "code",
   "execution_count": 14,
   "id": "cd7a1281",
   "metadata": {},
   "outputs": [
    {
     "data": {
      "text/plain": [
       "([[23, 18, 27, 12, 7, 3, 33], [21, 29, 5, 6, 4, 34, 10], [13, 31, 26, 22, 20, 30, 8], [19, 9, 16, 24, 11, 15, 0], [14, 1, 32, 17, 28, 25, 2]],\n",
       " [[5, 2, 34, 23, 13, 26, 9], [6, 8, 4, 20, 32, 7, 30], [11, 21, 17, 3, 12, 28, 27], [0, 22, 24, 10, 16, 1, 14], [25, 33, 31, 19, 18, 29, 15]])"
      ]
     },
     "execution_count": 14,
     "metadata": {},
     "output_type": "execute_result"
    }
   ],
   "source": [
    "solution_new.crossover(solution)"
   ]
  },
  {
   "cell_type": "markdown",
   "id": "279723fd",
   "metadata": {},
   "source": [
    "# 2. Testing different parameters for GA"
   ]
  },
  {
   "cell_type": "code",
   "execution_count": 15,
   "id": "51578c35",
   "metadata": {},
   "outputs": [],
   "source": [
    "tests_results=[]"
   ]
  },
  {
   "cell_type": "markdown",
   "id": "af160cbf",
   "metadata": {},
   "source": [
    "### 1st test:\n",
    "\n",
    "...."
   ]
  },
  {
   "cell_type": "code",
   "execution_count": 16,
   "id": "8e596472",
   "metadata": {},
   "outputs": [],
   "source": [
    "POP_SIZE = 50 \n",
    "CROSSOVER_FUNCTION = cycle_crossover\n",
    "MUTATION_FUNCTION = swap_stages_slots_mutation\n",
    "NUMBER_OF_TESTS=30\n",
    "MAX_GEN=10 # hundreds\n",
    "SELECTION_ALGORITHM=tournament_selection\n",
    "XO_PROB=0.9\n",
    "MUT_PROB=0.3"
   ]
  },
  {
   "cell_type": "code",
   "execution_count": 17,
   "id": "92c1ceaa",
   "metadata": {},
   "outputs": [],
   "source": [
    "initial_population = [\n",
    "    LUGASolution(\n",
    "        crossover_function=CROSSOVER_FUNCTION,\n",
    "        mutation_function=MUTATION_FUNCTION\n",
    "    )\n",
    "    for _ in range(POP_SIZE)\n",
    "]"
   ]
  },
  {
   "cell_type": "code",
   "execution_count": 18,
   "id": "313bcf1c",
   "metadata": {},
   "outputs": [
    {
     "name": "stdout",
     "output_type": "stream",
     "text": [
      "ranks_array: [ 0  1  2  3  4  5  6  7  8  9 10 11 12 13 14 15 16 17 18 19 20 21 22 23\n",
      " 24 25 26 27 28 29 30 31 32 33 34 35 36 37 38 39 40 41 42 43 44 45 46 47\n",
      " 48 49]\n",
      "prob1: [0.01       0.01040816 0.01081633 0.01122449 0.01163265 0.01204082\n",
      " 0.01244898 0.01285714 0.01326531 0.01367347 0.01408163 0.0144898\n",
      " 0.01489796 0.01530612 0.01571429 0.01612245 0.01653061 0.01693878\n",
      " 0.01734694 0.0177551  0.01816327 0.01857143 0.01897959 0.01938776\n",
      " 0.01979592 0.02020408 0.02061224 0.02102041 0.02142857 0.02183673\n",
      " 0.0222449  0.02265306 0.02306122 0.02346939 0.02387755 0.02428571\n",
      " 0.02469388 0.02510204 0.0255102  0.02591837 0.02632653 0.02673469\n",
      " 0.02714286 0.02755102 0.02795918 0.02836735 0.02877551 0.02918367\n",
      " 0.02959184 0.03      ]\n",
      "prob2: [0.03       0.02959184 0.02918367 0.02877551 0.02836735 0.02795918\n",
      " 0.02755102 0.02714286 0.02673469 0.02632653 0.02591837 0.0255102\n",
      " 0.02510204 0.02469388 0.02428571 0.02387755 0.02346939 0.02306122\n",
      " 0.02265306 0.0222449  0.02183673 0.02142857 0.02102041 0.02061224\n",
      " 0.02020408 0.01979592 0.01938776 0.01897959 0.01857143 0.01816327\n",
      " 0.0177551  0.01734694 0.01693878 0.01653061 0.01612245 0.01571429\n",
      " 0.01530612 0.01489796 0.0144898  0.01408163 0.01367347 0.01326531\n",
      " 0.01285714 0.01244898 0.01204082 0.01163265 0.01122449 0.01081633\n",
      " 0.01040816 0.01      ]\n",
      "selected_indexs: [ 4  5 23 24 46 26 25 20 40 13  5 23  2  4 17  3 21 46 12 11  6 46  1 24\n",
      " 17 25 47 24 35  7 27 19 10 39 46  2  8 37 31 44  0  1 44 10  1  6 16 18\n",
      " 42 43]\n"
     ]
    }
   ],
   "source": [
    "selection = ranking_selection(initial_population, maximization=True)"
   ]
  },
  {
   "cell_type": "code",
   "execution_count": 19,
   "id": "ec47529e",
   "metadata": {},
   "outputs": [
    {
     "data": {
      "text/plain": [
       "[[[7, 24, 3, 19, 29, 12, 10], [21, 1, 9, 32, 15, 6, 26], [11, 17, 18, 20, 22, 31, 30], [0, 33, 13, 28, 5, 4, 23], [8, 2, 16, 14, 27, 25, 34]],\n",
       " [[13, 18, 30, 32, 10, 0, 29], [21, 16, 3, 23, 33, 5, 20], [24, 11, 14, 8, 27, 19, 17], [2, 6, 4, 7, 12, 25, 31], [9, 1, 28, 15, 22, 26, 34]],\n",
       " [[11, 17, 27, 3, 21, 1, 33], [16, 25, 10, 6, 13, 18, 31], [2, 15, 32, 26, 12, 7, 9], [22, 34, 19, 4, 0, 5, 8], [29, 14, 24, 30, 28, 23, 20]],\n",
       " [[33, 3, 20, 21, 4, 16, 18], [0, 27, 11, 8, 32, 31, 17], [6, 14, 24, 5, 34, 9, 30], [23, 7, 2, 13, 15, 12, 22], [29, 19, 28, 1, 26, 10, 25]],\n",
       " [[30, 20, 17, 29, 13, 19, 8], [4, 2, 18, 16, 5, 31, 7], [23, 1, 34, 21, 33, 10, 32], [14, 9, 11, 24, 26, 27, 12], [15, 28, 22, 6, 25, 0, 3]],\n",
       " [[21, 25, 19, 16, 26, 22, 10], [23, 12, 31, 4, 30, 3, 24], [14, 7, 0, 8, 33, 6, 29], [18, 2, 1, 5, 27, 28, 32], [11, 13, 17, 20, 15, 9, 34]],\n",
       " [[12, 7, 4, 29, 26, 32, 2], [8, 3, 5, 27, 20, 23, 0], [34, 25, 6, 30, 19, 17, 24], [33, 14, 21, 22, 9, 13, 11], [10, 15, 16, 1, 18, 31, 28]],\n",
       " [[33, 21, 23, 31, 26, 0, 25], [18, 24, 5, 27, 12, 17, 30], [9, 22, 19, 34, 4, 1, 20], [6, 14, 11, 13, 29, 7, 32], [15, 28, 3, 2, 8, 10, 16]],\n",
       " [[8, 6, 9, 18, 30, 34, 28], [11, 4, 1, 7, 20, 14, 21], [13, 25, 2, 29, 31, 16, 33], [23, 0, 19, 27, 24, 3, 32], [12, 17, 10, 26, 5, 15, 22]],\n",
       " [[18, 2, 31, 5, 16, 22, 11], [34, 8, 17, 26, 10, 14, 13], [28, 20, 15, 32, 7, 21, 27], [12, 23, 29, 3, 19, 25, 30], [1, 33, 0, 9, 24, 6, 4]],\n",
       " [[13, 18, 30, 32, 10, 0, 29], [21, 16, 3, 23, 33, 5, 20], [24, 11, 14, 8, 27, 19, 17], [2, 6, 4, 7, 12, 25, 31], [9, 1, 28, 15, 22, 26, 34]],\n",
       " [[11, 17, 27, 3, 21, 1, 33], [16, 25, 10, 6, 13, 18, 31], [2, 15, 32, 26, 12, 7, 9], [22, 34, 19, 4, 0, 5, 8], [29, 14, 24, 30, 28, 23, 20]],\n",
       " [[11, 33, 13, 21, 12, 5, 3], [31, 16, 9, 27, 0, 19, 4], [2, 22, 1, 23, 15, 25, 29], [8, 14, 7, 32, 17, 10, 28], [20, 34, 30, 18, 24, 6, 26]],\n",
       " [[7, 24, 3, 19, 29, 12, 10], [21, 1, 9, 32, 15, 6, 26], [11, 17, 18, 20, 22, 31, 30], [0, 33, 13, 28, 5, 4, 23], [8, 2, 16, 14, 27, 25, 34]],\n",
       " [[13, 12, 24, 7, 14, 28, 22], [23, 16, 0, 4, 19, 8, 6], [26, 32, 15, 33, 29, 18, 2], [17, 21, 3, 34, 9, 10, 31], [25, 20, 30, 27, 1, 11, 5]],\n",
       " [[23, 10, 12, 0, 16, 27, 9], [28, 7, 2, 4, 5, 21, 13], [31, 22, 34, 26, 25, 30, 6], [8, 20, 29, 19, 15, 18, 14], [1, 32, 11, 24, 3, 33, 17]],\n",
       " [[28, 27, 11, 0, 13, 3, 25], [2, 16, 29, 6, 24, 9, 7], [17, 21, 15, 30, 20, 22, 26], [1, 8, 18, 4, 32, 14, 5], [19, 12, 10, 33, 31, 23, 34]],\n",
       " [[30, 20, 17, 29, 13, 19, 8], [4, 2, 18, 16, 5, 31, 7], [23, 1, 34, 21, 33, 10, 32], [14, 9, 11, 24, 26, 27, 12], [15, 28, 22, 6, 25, 0, 3]],\n",
       " [[18, 29, 13, 34, 28, 22, 24], [32, 1, 5, 3, 16, 25, 17], [20, 15, 2, 9, 8, 21, 33], [26, 6, 0, 12, 19, 11, 14], [27, 30, 10, 7, 4, 31, 23]],\n",
       " [[2, 4, 34, 33, 29, 7, 23], [25, 16, 32, 31, 9, 5, 21], [18, 28, 12, 19, 30, 0, 15], [14, 3, 6, 8, 13, 11, 10], [24, 27, 26, 20, 22, 17, 1]],\n",
       " [[10, 4, 11, 28, 18, 15, 32], [19, 26, 21, 6, 5, 27, 22], [3, 34, 29, 33, 24, 30, 25], [12, 16, 2, 17, 0, 1, 14], [23, 9, 8, 20, 13, 31, 7]],\n",
       " [[30, 20, 17, 29, 13, 19, 8], [4, 2, 18, 16, 5, 31, 7], [23, 1, 34, 21, 33, 10, 32], [14, 9, 11, 24, 26, 27, 12], [15, 28, 22, 6, 25, 0, 3]],\n",
       " [[7, 29, 14, 26, 2, 4, 10], [32, 1, 8, 16, 5, 18, 23], [27, 11, 19, 6, 31, 15, 22], [25, 9, 17, 21, 30, 34, 12], [3, 13, 0, 28, 33, 24, 20]],\n",
       " [[33, 3, 20, 21, 4, 16, 18], [0, 27, 11, 8, 32, 31, 17], [6, 14, 24, 5, 34, 9, 30], [23, 7, 2, 13, 15, 12, 22], [29, 19, 28, 1, 26, 10, 25]],\n",
       " [[13, 12, 24, 7, 14, 28, 22], [23, 16, 0, 4, 19, 8, 6], [26, 32, 15, 33, 29, 18, 2], [17, 21, 3, 34, 9, 10, 31], [25, 20, 30, 27, 1, 11, 5]],\n",
       " [[12, 7, 4, 29, 26, 32, 2], [8, 3, 5, 27, 20, 23, 0], [34, 25, 6, 30, 19, 17, 24], [33, 14, 21, 22, 9, 13, 11], [10, 15, 16, 1, 18, 31, 28]],\n",
       " [[2, 21, 20, 34, 1, 6, 30], [25, 18, 27, 13, 5, 26, 28], [9, 11, 29, 33, 16, 12, 32], [8, 7, 19, 15, 14, 17, 0], [23, 31, 10, 4, 3, 22, 24]],\n",
       " [[33, 3, 20, 21, 4, 16, 18], [0, 27, 11, 8, 32, 31, 17], [6, 14, 24, 5, 34, 9, 30], [23, 7, 2, 13, 15, 12, 22], [29, 19, 28, 1, 26, 10, 25]],\n",
       " [[33, 25, 8, 6, 17, 0, 20], [32, 19, 3, 31, 16, 5, 26], [1, 4, 18, 11, 28, 13, 27], [23, 29, 21, 9, 24, 7, 34], [22, 14, 10, 12, 30, 2, 15]],\n",
       " [[6, 15, 22, 32, 25, 8, 16], [31, 24, 34, 27, 33, 0, 3], [11, 2, 28, 30, 12, 9, 10], [14, 5, 21, 29, 17, 18, 1], [20, 13, 7, 26, 4, 19, 23]],\n",
       " [[17, 7, 3, 24, 11, 31, 29], [18, 4, 25, 10, 12, 9, 15], [16, 6, 19, 2, 20, 28, 26], [8, 30, 32, 5, 23, 14, 33], [34, 22, 0, 27, 1, 21, 13]],\n",
       " [[20, 17, 21, 25, 18, 33, 1], [8, 2, 14, 0, 9, 28, 30], [31, 22, 24, 7, 4, 23, 13], [3, 29, 32, 10, 19, 27, 16], [5, 34, 26, 6, 11, 15, 12]],\n",
       " [[1, 29, 5, 34, 2, 13, 33], [9, 20, 11, 28, 10, 15, 32], [8, 19, 12, 22, 21, 0, 26], [4, 18, 24, 27, 30, 31, 23], [17, 7, 14, 6, 3, 16, 25]],\n",
       " [[17, 1, 23, 15, 30, 22, 34], [24, 11, 8, 9, 0, 19, 12], [5, 3, 21, 18, 10, 2, 29], [20, 13, 7, 28, 26, 25, 33], [4, 31, 16, 27, 32, 14, 6]],\n",
       " [[30, 20, 17, 29, 13, 19, 8], [4, 2, 18, 16, 5, 31, 7], [23, 1, 34, 21, 33, 10, 32], [14, 9, 11, 24, 26, 27, 12], [15, 28, 22, 6, 25, 0, 3]],\n",
       " [[11, 33, 13, 21, 12, 5, 3], [31, 16, 9, 27, 0, 19, 4], [2, 22, 1, 23, 15, 25, 29], [8, 14, 7, 32, 17, 10, 28], [20, 34, 30, 18, 24, 6, 26]],\n",
       " [[25, 9, 26, 33, 16, 12, 5], [19, 4, 27, 29, 22, 8, 7], [2, 32, 13, 24, 0, 3, 30], [20, 18, 11, 34, 6, 1, 28], [17, 15, 31, 21, 23, 14, 10]],\n",
       " [[7, 34, 16, 33, 20, 3, 15], [6, 14, 13, 25, 27, 2, 26], [30, 18, 10, 28, 29, 1, 17], [31, 5, 12, 9, 0, 4, 8], [22, 24, 21, 19, 11, 23, 32]],\n",
       " [[27, 13, 17, 33, 15, 3, 9], [25, 34, 19, 24, 16, 30, 26], [6, 23, 28, 21, 32, 8, 11], [22, 14, 4, 20, 31, 10, 7], [18, 1, 5, 12, 0, 29, 2]],\n",
       " [[27, 9, 25, 33, 11, 29, 30], [8, 34, 18, 4, 7, 16, 2], [5, 14, 22, 17, 6, 1, 10], [13, 26, 32, 3, 12, 23, 15], [20, 24, 19, 0, 21, 31, 28]],\n",
       " [[19, 33, 3, 32, 4, 21, 18], [20, 6, 10, 26, 14, 2, 17], [24, 34, 31, 29, 28, 25, 23], [22, 30, 12, 16, 9, 1, 7], [8, 0, 13, 15, 11, 27, 5]],\n",
       " [[7, 29, 14, 26, 2, 4, 10], [32, 1, 8, 16, 5, 18, 23], [27, 11, 19, 6, 31, 15, 22], [25, 9, 17, 21, 30, 34, 12], [3, 13, 0, 28, 33, 24, 20]],\n",
       " [[27, 9, 25, 33, 11, 29, 30], [8, 34, 18, 4, 7, 16, 2], [5, 14, 22, 17, 6, 1, 10], [13, 26, 32, 3, 12, 23, 15], [20, 24, 19, 0, 21, 31, 28]],\n",
       " [[1, 29, 5, 34, 2, 13, 33], [9, 20, 11, 28, 10, 15, 32], [8, 19, 12, 22, 21, 0, 26], [4, 18, 24, 27, 30, 31, 23], [17, 7, 14, 6, 3, 16, 25]],\n",
       " [[7, 29, 14, 26, 2, 4, 10], [32, 1, 8, 16, 5, 18, 23], [27, 11, 19, 6, 31, 15, 22], [25, 9, 17, 21, 30, 34, 12], [3, 13, 0, 28, 33, 24, 20]],\n",
       " [[10, 4, 11, 28, 18, 15, 32], [19, 26, 21, 6, 5, 27, 22], [3, 34, 29, 33, 24, 30, 25], [12, 16, 2, 17, 0, 1, 14], [23, 9, 8, 20, 13, 31, 7]],\n",
       " [[15, 20, 17, 10, 27, 5, 31], [16, 26, 22, 14, 25, 12, 30], [28, 24, 3, 18, 7, 2, 33], [21, 6, 34, 19, 8, 29, 0], [9, 1, 13, 4, 32, 11, 23]],\n",
       " [[12, 30, 34, 3, 23, 1, 18], [11, 8, 16, 14, 27, 28, 31], [21, 6, 9, 4, 29, 2, 15], [17, 24, 22, 25, 0, 19, 32], [13, 5, 26, 7, 20, 33, 10]],\n",
       " [[7, 19, 31, 18, 9, 23, 11], [24, 27, 29, 6, 30, 4, 28], [3, 5, 12, 20, 22, 34, 21], [10, 2, 33, 25, 16, 14, 32], [13, 26, 0, 15, 17, 8, 1]],\n",
       " [[11, 0, 22, 33, 19, 15, 5], [25, 17, 13, 8, 23, 28, 4], [9, 10, 3, 31, 12, 27, 2], [20, 29, 6, 24, 18, 32, 34], [14, 21, 1, 7, 16, 26, 30]]]"
      ]
     },
     "execution_count": 19,
     "metadata": {},
     "output_type": "execute_result"
    }
   ],
   "source": [
    "selection"
   ]
  },
  {
   "cell_type": "code",
   "execution_count": null,
   "id": "ff683007",
   "metadata": {},
   "outputs": [
    {
     "name": "stdout",
     "output_type": "stream",
     "text": [
      "Final best individual in generation: 0.6694534628301237\n",
      "Final best individual in generation: 0.6873996889396152\n",
      "Final best individual in generation: 0.6873996889396152\n",
      "Final best individual in generation: 0.7027544022535123\n",
      "Final best individual in generation: 0.7027544022535123\n",
      "Final best individual in generation: 0.7103557881944659\n",
      "Final best individual in generation: 0.7177551801260468\n",
      "Final best individual in generation: 0.7258015413565376\n",
      "Final best individual in generation: 0.7258015413565376\n",
      "Final best individual in generation: 0.737150667759041\n"
     ]
    }
   ],
   "source": [
    "best_solutions_test1 = []\n",
    "fitness_history_test1 = []\n",
    "\n",
    "for i in range(NUMBER_OF_TESTS):\n",
    "    best_solution, fitness_history = genetic_algorithm(\n",
    "        initial_population=initial_population,\n",
    "        max_gen=MAX_GEN,\n",
    "        selection_algorithm=SELECTION_ALGORITHM,\n",
    "        maximization = True,\n",
    "        xo_prob = XO_PROB,\n",
    "        mut_prob = MUT_PROB,\n",
    "        elitism = True,\n",
    "        verbose = False,\n",
    "    )\n",
    "\n",
    "    best_solutions_test1.append(best_solution)\n",
    "    fitness_history_test1.append(best_solution.fitness())\n"
   ]
  },
  {
   "cell_type": "code",
   "execution_count": 16,
   "id": "b4006a6a",
   "metadata": {},
   "outputs": [
    {
     "data": {
      "text/plain": [
       "[0.6694534628301237,\n",
       " 0.6873996889396152,\n",
       " 0.6873996889396152,\n",
       " 0.7027544022535123,\n",
       " 0.7027544022535123,\n",
       " 0.7103557881944659,\n",
       " 0.7177551801260468,\n",
       " 0.7258015413565376,\n",
       " 0.7258015413565376,\n",
       " 0.737150667759041]"
      ]
     },
     "execution_count": 16,
     "metadata": {},
     "output_type": "execute_result"
    }
   ],
   "source": [
    "fitness_history"
   ]
  },
  {
   "cell_type": "code",
   "execution_count": 17,
   "id": "4fe5e7cf",
   "metadata": {},
   "outputs": [
    {
     "data": {
      "text/plain": [
       "0.737150667759041"
      ]
     },
     "execution_count": 17,
     "metadata": {},
     "output_type": "execute_result"
    }
   ],
   "source": [
    "best_solution.fitness()"
   ]
  },
  {
   "cell_type": "markdown",
   "id": "a43ca29e",
   "metadata": {},
   "source": [
    "### 2nd test:\n",
    "\n",
    "...."
   ]
  },
  {
   "cell_type": "markdown",
   "id": "135ab2a7",
   "metadata": {},
   "source": [
    "# 3. Comparing the results"
   ]
  },
  {
   "cell_type": "code",
   "execution_count": null,
   "id": "85d52cfc",
   "metadata": {},
   "outputs": [],
   "source": [
    "statistics_for_test=[]\n",
    "# acabar isto lolllllll\n",
    "\n",
    "\n",
    "for i in range(len(tests_results)):\n"
   ]
  },
  {
   "cell_type": "code",
   "execution_count": null,
   "id": "a93930f5",
   "metadata": {},
   "outputs": [],
   "source": [
    "plt.boxplot(tests_results)\n",
    "\n",
    "plt.title('Fitness Distributions Across Tests')\n",
    "plt.xlabel('Test')\n",
    "plt.ylabel('Fitness')\n",
    "# plt.grid(True)\n",
    "plt.tight_layout()\n",
    "plt.show()"
   ]
  },
  {
   "cell_type": "markdown",
   "id": "9102b157",
   "metadata": {},
   "source": [
    "# 3. Testing Hill Climbing"
   ]
  },
  {
   "cell_type": "markdown",
   "id": "b047adce",
   "metadata": {},
   "source": [
    "# 4. Testing Simulated Annealing"
   ]
  }
 ],
 "metadata": {
  "kernelspec": {
   "display_name": "base",
   "language": "python",
   "name": "python3"
  },
  "language_info": {
   "codemirror_mode": {
    "name": "ipython",
    "version": 3
   },
   "file_extension": ".py",
   "mimetype": "text/x-python",
   "name": "python",
   "nbconvert_exporter": "python",
   "pygments_lexer": "ipython3",
   "version": "3.11.5"
  }
 },
 "nbformat": 4,
 "nbformat_minor": 5
}
