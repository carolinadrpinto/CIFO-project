{
 "cells": [
  {
   "cell_type": "markdown",
   "id": "2b4b4c74",
   "metadata": {},
   "source": [
    "# 1. Imports"
   ]
  },
  {
   "cell_type": "code",
   "execution_count": null,
   "id": "25897339",
   "metadata": {},
   "outputs": [],
   "source": [
    "import matplotlib.pyplot as plt"
   ]
  },
  {
   "cell_type": "code",
   "execution_count": 1,
   "id": "21ea30ca",
   "metadata": {},
   "outputs": [],
   "source": [
    "from MFLUSolution import LUSolution, LUGASolution"
   ]
  },
  {
   "cell_type": "code",
   "execution_count": 2,
   "id": "81e762ea",
   "metadata": {},
   "outputs": [],
   "source": [
    "from selection_and_operators.mutation import swap_stages_slots_mutation\n",
    "from selection_and_operators.crossover import cycle_crossover\n",
    "from selection_and_operators.selection import tournament_selection\n",
    "from library.algorithm import genetic_algorithm"
   ]
  },
  {
   "cell_type": "markdown",
   "id": "d2a96f8c",
   "metadata": {},
   "source": [
    "# (Espaço para testes, depois é apagado)"
   ]
  },
  {
   "cell_type": "code",
   "execution_count": 4,
   "id": "7fc15976",
   "metadata": {},
   "outputs": [
    {
     "data": {
      "text/plain": [
       "[[4, 33, 23, 10, 34, 12, 5],\n",
       " [20, 26, 14, 25, 11, 9, 16],\n",
       " [19, 24, 21, 3, 27, 6, 13],\n",
       " [30, 2, 1, 29, 15, 31, 18],\n",
       " [8, 17, 28, 0, 7, 32, 22]]"
      ]
     },
     "execution_count": 4,
     "metadata": {},
     "output_type": "execute_result"
    }
   ],
   "source": [
    "import random\n",
    "repr = []\n",
    "artists = list(range(35))\n",
    "random.shuffle(artists)\n",
    "repr = [artists[i * 7:(i + 1) * 7] for i in range(5)]\n",
    "repr"
   ]
  },
  {
   "cell_type": "code",
   "execution_count": 5,
   "id": "fc311966",
   "metadata": {},
   "outputs": [],
   "source": [
    "solution= LUSolution(repr=repr)"
   ]
  },
  {
   "cell_type": "code",
   "execution_count": 6,
   "id": "ff26879b",
   "metadata": {},
   "outputs": [
    {
     "data": {
      "text/plain": [
       "[[4, 33, 23, 10, 34, 12, 5], [20, 26, 14, 25, 11, 9, 16], [19, 24, 21, 3, 27, 6, 13], [30, 2, 1, 29, 15, 31, 18], [8, 17, 28, 0, 7, 32, 22]]"
      ]
     },
     "execution_count": 6,
     "metadata": {},
     "output_type": "execute_result"
    }
   ],
   "source": [
    "solution"
   ]
  },
  {
   "cell_type": "code",
   "execution_count": 7,
   "id": "9f49b2ce",
   "metadata": {},
   "outputs": [],
   "source": [
    "solution=LUGASolution(\n",
    "        crossover_function=cycle_crossover,\n",
    "        mutation_function=swap_stages_slots_mutation,\n",
    "        repr=repr\n",
    "    )"
   ]
  },
  {
   "cell_type": "code",
   "execution_count": 8,
   "id": "5e894e9a",
   "metadata": {},
   "outputs": [
    {
     "data": {
      "text/plain": [
       "[[4, 33, 23, 10, 34, 12, 5], [20, 26, 14, 25, 11, 9, 16], [19, 24, 21, 3, 27, 6, 13], [30, 2, 1, 29, 15, 31, 18], [8, 17, 28, 0, 7, 32, 22]]"
      ]
     },
     "execution_count": 8,
     "metadata": {},
     "output_type": "execute_result"
    }
   ],
   "source": [
    "solution"
   ]
  },
  {
   "cell_type": "code",
   "execution_count": 9,
   "id": "b8ce9b5b",
   "metadata": {},
   "outputs": [
    {
     "data": {
      "text/plain": [
       "0.5748668432890397"
      ]
     },
     "execution_count": 9,
     "metadata": {},
     "output_type": "execute_result"
    }
   ],
   "source": [
    "solution.fitness()"
   ]
  },
  {
   "cell_type": "code",
   "execution_count": 10,
   "id": "d4077e79",
   "metadata": {},
   "outputs": [
    {
     "data": {
      "text/plain": [
       "[[4, 33, 23, 10, 34, 12, 5], [20, 26, 14, 25, 11, 9, 16], [19, 24, 21, 3, 27, 6, 13], [30, 2, 1, 29, 15, 31, 18], [8, 17, 28, 0, 7, 32, 22]]"
      ]
     },
     "execution_count": 10,
     "metadata": {},
     "output_type": "execute_result"
    }
   ],
   "source": [
    "solution"
   ]
  },
  {
   "cell_type": "code",
   "execution_count": 11,
   "id": "9cbff9e8",
   "metadata": {},
   "outputs": [
    {
     "data": {
      "text/plain": [
       "[[4, 33, 23, 10, 34, 12, 5], [20, 26, 14, 25, 11, 9, 16], [19, 24, 21, 3, 27, 6, 13], [30, 2, 1, 29, 15, 31, 18], [8, 17, 28, 0, 7, 32, 22]]"
      ]
     },
     "execution_count": 11,
     "metadata": {},
     "output_type": "execute_result"
    }
   ],
   "source": [
    "solution.mutation(mut_prob=0)"
   ]
  },
  {
   "cell_type": "code",
   "execution_count": 12,
   "id": "2a01c53b",
   "metadata": {},
   "outputs": [],
   "source": [
    "solution_new=LUGASolution(\n",
    "        crossover_function=cycle_crossover,\n",
    "        mutation_function=swap_stages_slots_mutation)"
   ]
  },
  {
   "cell_type": "code",
   "execution_count": 13,
   "id": "58bda0dd",
   "metadata": {},
   "outputs": [
    {
     "data": {
      "text/plain": [
       "[[26, 0, 25, 33, 30, 9, 24], [17, 34, 11, 8, 27, 32, 29], [6, 22, 28, 21, 5, 16, 12], [14, 4, 20, 3, 15, 7, 13], [2, 19, 1, 18, 31, 10, 23]]"
      ]
     },
     "execution_count": 13,
     "metadata": {},
     "output_type": "execute_result"
    }
   ],
   "source": [
    "solution_new"
   ]
  },
  {
   "cell_type": "code",
   "execution_count": 14,
   "id": "cd7a1281",
   "metadata": {},
   "outputs": [
    {
     "data": {
      "text/plain": [
       "([[4, 0, 23, 33, 34, 9, 5], [20, 26, 14, 25, 11, 32, 16], [19, 24, 21, 3, 27, 6, 12], [30, 2, 1, 29, 15, 31, 13], [8, 17, 28, 18, 7, 10, 22]],\n",
       " [[26, 33, 25, 10, 30, 12, 24], [17, 34, 11, 8, 27, 9, 29], [6, 22, 28, 21, 5, 16, 13], [14, 4, 20, 3, 15, 7, 18], [2, 19, 1, 0, 31, 32, 23]])"
      ]
     },
     "execution_count": 14,
     "metadata": {},
     "output_type": "execute_result"
    }
   ],
   "source": [
    "solution_new.crossover(solution)"
   ]
  },
  {
   "cell_type": "markdown",
   "id": "279723fd",
   "metadata": {},
   "source": [
    "# 2. Testing different parameters for GA"
   ]
  },
  {
   "cell_type": "code",
   "execution_count": null,
   "id": "51578c35",
   "metadata": {},
   "outputs": [],
   "source": [
    "tests_results=[]"
   ]
  },
  {
   "cell_type": "markdown",
   "id": "af160cbf",
   "metadata": {},
   "source": [
    "### 1st test:\n",
    "\n",
    "...."
   ]
  },
  {
   "cell_type": "code",
   "execution_count": null,
   "id": "8e596472",
   "metadata": {},
   "outputs": [],
   "source": [
    "POP_SIZE = 50\n",
    "CROSSOVER_FUNCTION = cycle_crossover\n",
    "MUTATION_FUNCTION = swap_stages_slots_mutation\n",
    "NUMBER_OF_TESTS=30\n",
    "MAX_GEN=10\n",
    "SELECTION_ALGORITHM=tournament_selection\n",
    "XO_PROB=0.9\n",
    "MUT_PROB=0.3"
   ]
  },
  {
   "cell_type": "code",
   "execution_count": null,
   "id": "92c1ceaa",
   "metadata": {},
   "outputs": [],
   "source": [
    "initial_population = [\n",
    "    LUGASolution(\n",
    "        crossover_function=CROSSOVER_FUNCTION,\n",
    "        mutation_function=MUTATION_FUNCTION\n",
    "    )\n",
    "    for _ in range(POP_SIZE)\n",
    "]"
   ]
  },
  {
   "cell_type": "code",
   "execution_count": null,
   "id": "ff683007",
   "metadata": {},
   "outputs": [
    {
     "name": "stdout",
     "output_type": "stream",
     "text": [
      "Final best individual in generation: 0.6694534628301237\n",
      "Final best individual in generation: 0.6873996889396152\n",
      "Final best individual in generation: 0.6873996889396152\n",
      "Final best individual in generation: 0.7027544022535123\n",
      "Final best individual in generation: 0.7027544022535123\n",
      "Final best individual in generation: 0.7103557881944659\n",
      "Final best individual in generation: 0.7177551801260468\n",
      "Final best individual in generation: 0.7258015413565376\n",
      "Final best individual in generation: 0.7258015413565376\n",
      "Final best individual in generation: 0.737150667759041\n"
     ]
    }
   ],
   "source": [
    "best_solutions_test1 = []\n",
    "best_solutions_fitness_test1 = []\n",
    "\n",
    "for i in range(NUMBER_OF_TESTS):\n",
    "    best_solution, fitness_history = genetic_algorithm(\n",
    "        initial_population=initial_population,\n",
    "        max_gen=MAX_GEN,\n",
    "        selection_algorithm=SELECTION_ALGORITHM,\n",
    "        maximization = True,\n",
    "        xo_prob = XO_PROB,\n",
    "        mut_prob = MUT_PROB,\n",
    "        elitism = True,\n",
    "        verbose = False,\n",
    "    )\n",
    "\n",
    "    best_solutions_test1.append(best_solution)\n",
    "    best_solutions_fitness_test1.append(best_solution.fitness())\n"
   ]
  },
  {
   "cell_type": "code",
   "execution_count": 16,
   "id": "b4006a6a",
   "metadata": {},
   "outputs": [
    {
     "data": {
      "text/plain": [
       "[0.6694534628301237,\n",
       " 0.6873996889396152,\n",
       " 0.6873996889396152,\n",
       " 0.7027544022535123,\n",
       " 0.7027544022535123,\n",
       " 0.7103557881944659,\n",
       " 0.7177551801260468,\n",
       " 0.7258015413565376,\n",
       " 0.7258015413565376,\n",
       " 0.737150667759041]"
      ]
     },
     "execution_count": 16,
     "metadata": {},
     "output_type": "execute_result"
    }
   ],
   "source": [
    "fitness_history"
   ]
  },
  {
   "cell_type": "code",
   "execution_count": 17,
   "id": "4fe5e7cf",
   "metadata": {},
   "outputs": [
    {
     "data": {
      "text/plain": [
       "0.737150667759041"
      ]
     },
     "execution_count": 17,
     "metadata": {},
     "output_type": "execute_result"
    }
   ],
   "source": [
    "best_solution.fitness()"
   ]
  },
  {
   "cell_type": "code",
   "execution_count": null,
   "id": "de99f572",
   "metadata": {},
   "outputs": [],
   "source": [
    "tests_results.append(best_solutions_fitness_test1)"
   ]
  },
  {
   "cell_type": "markdown",
   "id": "a43ca29e",
   "metadata": {},
   "source": [
    "### 2nd test:\n",
    "\n",
    "...."
   ]
  },
  {
   "cell_type": "markdown",
   "id": "135ab2a7",
   "metadata": {},
   "source": [
    "# 3. Comparing the results"
   ]
  },
  {
   "cell_type": "code",
   "execution_count": null,
   "id": "85d52cfc",
   "metadata": {},
   "outputs": [],
   "source": [
    "statistics_for_test=[]\n",
    "# acabar isto lolllllll\n",
    "\n",
    "\n",
    "for i in range(len(tests_results)):\n"
   ]
  },
  {
   "cell_type": "code",
   "execution_count": null,
   "id": "a93930f5",
   "metadata": {},
   "outputs": [],
   "source": [
    "plt.boxplot(tests_results)\n",
    "\n",
    "plt.title('Fitness Distributions Across Tests')\n",
    "plt.xlabel('Test')\n",
    "plt.ylabel('Fitness')\n",
    "# plt.grid(True)\n",
    "plt.tight_layout()\n",
    "plt.show()"
   ]
  },
  {
   "cell_type": "markdown",
   "id": "9102b157",
   "metadata": {},
   "source": [
    "# 3. Testing Hill Climbing"
   ]
  },
  {
   "cell_type": "markdown",
   "id": "b047adce",
   "metadata": {},
   "source": [
    "# 4. Testing Simulated Annealing"
   ]
  }
 ],
 "metadata": {
  "kernelspec": {
   "display_name": "base",
   "language": "python",
   "name": "python3"
  },
  "language_info": {
   "codemirror_mode": {
    "name": "ipython",
    "version": 3
   },
   "file_extension": ".py",
   "mimetype": "text/x-python",
   "name": "python",
   "nbconvert_exporter": "python",
   "pygments_lexer": "ipython3",
   "version": "3.11.5"
  }
 },
 "nbformat": 4,
 "nbformat_minor": 5
}
