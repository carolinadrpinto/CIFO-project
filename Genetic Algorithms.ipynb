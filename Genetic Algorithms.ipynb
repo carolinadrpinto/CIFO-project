{
 "cells": [
  {
   "cell_type": "markdown",
   "id": "0dd17ff6",
   "metadata": {},
   "source": [
    "# Import libraries and datasets"
   ]
  },
  {
   "cell_type": "code",
   "execution_count": null,
   "id": "e5b17670",
   "metadata": {},
   "outputs": [],
   "source": []
  }
 ],
 "metadata": {
  "language_info": {
   "name": "python"
  }
 },
 "nbformat": 4,
 "nbformat_minor": 5
}
