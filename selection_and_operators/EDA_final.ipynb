{
 "cells": [
  {
   "cell_type": "markdown",
   "id": "a83711db-d614-4c7b-b34c-f2254e28bc0e",
   "metadata": {},
   "source": [
    "## EDA"
   ]
  },
  {
   "cell_type": "code",
   "execution_count": 2,
   "id": "b50046c4-3c66-4e01-be5f-38f35d3049fe",
   "metadata": {},
   "outputs": [],
   "source": [
    "import pandas as pd\n",
    "import numpy as np\n",
    "from copy import deepcopy"
   ]
  },
  {
   "cell_type": "code",
   "execution_count": 4,
   "id": "1f96628c-5e24-4a85-97a3-d6783ee224af",
   "metadata": {},
   "outputs": [],
   "source": [
    "artists = pd.read_csv('./artists(in).csv', index_col=0)\n",
    "conflicts = pd.read_csv('./conflicts(in).csv', index_col=0)"
   ]
  },
  {
   "cell_type": "code",
   "execution_count": 46,
   "id": "ba0f0c38-85d9-4f46-abdc-00adf8b1657d",
   "metadata": {},
   "outputs": [
    {
     "data": {
      "text/html": [
       "<div>\n",
       "<style scoped>\n",
       "    .dataframe tbody tr th:only-of-type {\n",
       "        vertical-align: middle;\n",
       "    }\n",
       "\n",
       "    .dataframe tbody tr th {\n",
       "        vertical-align: top;\n",
       "    }\n",
       "\n",
       "    .dataframe thead th {\n",
       "        text-align: right;\n",
       "    }\n",
       "</style>\n",
       "<table border=\"1\" class=\"dataframe\">\n",
       "  <thead>\n",
       "    <tr style=\"text-align: right;\">\n",
       "      <th></th>\n",
       "      <th>name</th>\n",
       "      <th>genre</th>\n",
       "      <th>popularity</th>\n",
       "    </tr>\n",
       "  </thead>\n",
       "  <tbody>\n",
       "    <tr>\n",
       "      <th>0</th>\n",
       "      <td>Midnight Echo</td>\n",
       "      <td>Rock</td>\n",
       "      <td>75</td>\n",
       "    </tr>\n",
       "    <tr>\n",
       "      <th>1</th>\n",
       "      <td>Solar Flare</td>\n",
       "      <td>Electronic</td>\n",
       "      <td>78</td>\n",
       "    </tr>\n",
       "    <tr>\n",
       "      <th>2</th>\n",
       "      <td>Velvet Pulse</td>\n",
       "      <td>Jazz</td>\n",
       "      <td>35</td>\n",
       "    </tr>\n",
       "    <tr>\n",
       "      <th>3</th>\n",
       "      <td>Neon Reverie</td>\n",
       "      <td>Electronic</td>\n",
       "      <td>100</td>\n",
       "    </tr>\n",
       "    <tr>\n",
       "      <th>4</th>\n",
       "      <td>The Silver Owls</td>\n",
       "      <td>Classical</td>\n",
       "      <td>85</td>\n",
       "    </tr>\n",
       "  </tbody>\n",
       "</table>\n",
       "</div>"
      ],
      "text/plain": [
       "              name       genre  popularity\n",
       "0    Midnight Echo        Rock          75\n",
       "1      Solar Flare  Electronic          78\n",
       "2     Velvet Pulse        Jazz          35\n",
       "3     Neon Reverie  Electronic         100\n",
       "4  The Silver Owls   Classical          85"
      ]
     },
     "execution_count": 46,
     "metadata": {},
     "output_type": "execute_result"
    }
   ],
   "source": [
    "artists.head()"
   ]
  },
  {
   "cell_type": "code",
   "execution_count": 52,
   "id": "6e3039e2-48d5-4505-8fee-a9e7d2e177c4",
   "metadata": {},
   "outputs": [
    {
     "data": {
      "text/plain": [
       "(35, 3)"
      ]
     },
     "execution_count": 52,
     "metadata": {},
     "output_type": "execute_result"
    }
   ],
   "source": [
    "artists.shape #35 artists"
   ]
  },
  {
   "cell_type": "code",
   "execution_count": 60,
   "id": "03a319e6-79e9-4b44-8261-eec7428dbb0a",
   "metadata": {},
   "outputs": [
    {
     "data": {
      "text/plain": [
       "6"
      ]
     },
     "execution_count": 60,
     "metadata": {},
     "output_type": "execute_result"
    }
   ],
   "source": [
    "artists['genre'].nunique() #6 different genres"
   ]
  },
  {
   "cell_type": "code",
   "execution_count": 62,
   "id": "a467e598-7ada-4c59-81cf-e403f6f58d0f",
   "metadata": {},
   "outputs": [
    {
     "name": "stdout",
     "output_type": "stream",
     "text": [
      "20\n",
      "100\n"
     ]
    }
   ],
   "source": [
    "print(artists['popularity'].min()) #the less popular artist has a popularity score of 20\n",
    "print(artists['popularity'].max()) #the most popular artist has a popularity score of 100"
   ]
  },
  {
   "cell_type": "code",
   "execution_count": 48,
   "id": "1617c4fc-7448-46d3-b07c-c9047e60b503",
   "metadata": {},
   "outputs": [
    {
     "data": {
      "text/html": [
       "<div>\n",
       "<style scoped>\n",
       "    .dataframe tbody tr th:only-of-type {\n",
       "        vertical-align: middle;\n",
       "    }\n",
       "\n",
       "    .dataframe tbody tr th {\n",
       "        vertical-align: top;\n",
       "    }\n",
       "\n",
       "    .dataframe thead th {\n",
       "        text-align: right;\n",
       "    }\n",
       "</style>\n",
       "<table border=\"1\" class=\"dataframe\">\n",
       "  <thead>\n",
       "    <tr style=\"text-align: right;\">\n",
       "      <th></th>\n",
       "      <th>Midnight Echo</th>\n",
       "      <th>Solar Flare</th>\n",
       "      <th>Velvet Pulse</th>\n",
       "      <th>Neon Reverie</th>\n",
       "      <th>The Silver Owls</th>\n",
       "      <th>Echo Chamber</th>\n",
       "      <th>Aurora Skies</th>\n",
       "      <th>Static Mirage</th>\n",
       "      <th>Crimson Harmony</th>\n",
       "      <th>Deep Resonance</th>\n",
       "      <th>...</th>\n",
       "      <th>Rhythm Alchemy</th>\n",
       "      <th>Cloud Nine Collective</th>\n",
       "      <th>Hypnotic Echoes</th>\n",
       "      <th>The Polyrhythm Syndicate</th>\n",
       "      <th>Harmonic Dissonance</th>\n",
       "      <th>Turbo Vortex</th>\n",
       "      <th>The Jazz Nomads</th>\n",
       "      <th>The Bassline Architects</th>\n",
       "      <th>Cosmic Frequency</th>\n",
       "      <th>Parallel Dimension</th>\n",
       "    </tr>\n",
       "  </thead>\n",
       "  <tbody>\n",
       "    <tr>\n",
       "      <th>Midnight Echo</th>\n",
       "      <td>0.0</td>\n",
       "      <td>0.0</td>\n",
       "      <td>0.0</td>\n",
       "      <td>0.2</td>\n",
       "      <td>0.5</td>\n",
       "      <td>0.0</td>\n",
       "      <td>0.80</td>\n",
       "      <td>1.0</td>\n",
       "      <td>0.2</td>\n",
       "      <td>0.50</td>\n",
       "      <td>...</td>\n",
       "      <td>0.2</td>\n",
       "      <td>0.80</td>\n",
       "      <td>1.0</td>\n",
       "      <td>1.00</td>\n",
       "      <td>0.65</td>\n",
       "      <td>1.00</td>\n",
       "      <td>0.4</td>\n",
       "      <td>0.40</td>\n",
       "      <td>1.0</td>\n",
       "      <td>0.2</td>\n",
       "    </tr>\n",
       "    <tr>\n",
       "      <th>Solar Flare</th>\n",
       "      <td>0.0</td>\n",
       "      <td>0.0</td>\n",
       "      <td>0.0</td>\n",
       "      <td>1.0</td>\n",
       "      <td>0.0</td>\n",
       "      <td>1.0</td>\n",
       "      <td>0.00</td>\n",
       "      <td>1.0</td>\n",
       "      <td>0.0</td>\n",
       "      <td>0.65</td>\n",
       "      <td>...</td>\n",
       "      <td>0.2</td>\n",
       "      <td>0.65</td>\n",
       "      <td>0.0</td>\n",
       "      <td>0.65</td>\n",
       "      <td>0.40</td>\n",
       "      <td>0.40</td>\n",
       "      <td>0.4</td>\n",
       "      <td>0.00</td>\n",
       "      <td>0.0</td>\n",
       "      <td>1.0</td>\n",
       "    </tr>\n",
       "    <tr>\n",
       "      <th>Velvet Pulse</th>\n",
       "      <td>0.0</td>\n",
       "      <td>0.0</td>\n",
       "      <td>0.0</td>\n",
       "      <td>1.0</td>\n",
       "      <td>0.5</td>\n",
       "      <td>0.0</td>\n",
       "      <td>0.65</td>\n",
       "      <td>1.0</td>\n",
       "      <td>0.5</td>\n",
       "      <td>1.00</td>\n",
       "      <td>...</td>\n",
       "      <td>1.0</td>\n",
       "      <td>1.00</td>\n",
       "      <td>0.4</td>\n",
       "      <td>1.00</td>\n",
       "      <td>0.70</td>\n",
       "      <td>0.00</td>\n",
       "      <td>1.0</td>\n",
       "      <td>0.15</td>\n",
       "      <td>1.0</td>\n",
       "      <td>0.4</td>\n",
       "    </tr>\n",
       "    <tr>\n",
       "      <th>Neon Reverie</th>\n",
       "      <td>0.2</td>\n",
       "      <td>1.0</td>\n",
       "      <td>1.0</td>\n",
       "      <td>0.0</td>\n",
       "      <td>0.2</td>\n",
       "      <td>0.9</td>\n",
       "      <td>0.20</td>\n",
       "      <td>1.0</td>\n",
       "      <td>0.0</td>\n",
       "      <td>1.00</td>\n",
       "      <td>...</td>\n",
       "      <td>0.0</td>\n",
       "      <td>0.00</td>\n",
       "      <td>0.0</td>\n",
       "      <td>0.20</td>\n",
       "      <td>0.65</td>\n",
       "      <td>0.65</td>\n",
       "      <td>0.2</td>\n",
       "      <td>0.00</td>\n",
       "      <td>0.2</td>\n",
       "      <td>1.0</td>\n",
       "    </tr>\n",
       "    <tr>\n",
       "      <th>The Silver Owls</th>\n",
       "      <td>0.5</td>\n",
       "      <td>0.0</td>\n",
       "      <td>0.5</td>\n",
       "      <td>0.2</td>\n",
       "      <td>0.0</td>\n",
       "      <td>1.0</td>\n",
       "      <td>0.00</td>\n",
       "      <td>1.0</td>\n",
       "      <td>0.9</td>\n",
       "      <td>0.00</td>\n",
       "      <td>...</td>\n",
       "      <td>1.0</td>\n",
       "      <td>0.65</td>\n",
       "      <td>0.0</td>\n",
       "      <td>0.20</td>\n",
       "      <td>0.90</td>\n",
       "      <td>0.20</td>\n",
       "      <td>0.2</td>\n",
       "      <td>0.40</td>\n",
       "      <td>1.0</td>\n",
       "      <td>0.0</td>\n",
       "    </tr>\n",
       "  </tbody>\n",
       "</table>\n",
       "<p>5 rows × 35 columns</p>\n",
       "</div>"
      ],
      "text/plain": [
       "                 Midnight Echo  Solar Flare  Velvet Pulse  Neon Reverie  \\\n",
       "Midnight Echo              0.0          0.0           0.0           0.2   \n",
       "Solar Flare                0.0          0.0           0.0           1.0   \n",
       "Velvet Pulse               0.0          0.0           0.0           1.0   \n",
       "Neon Reverie               0.2          1.0           1.0           0.0   \n",
       "The Silver Owls            0.5          0.0           0.5           0.2   \n",
       "\n",
       "                 The Silver Owls  Echo Chamber  Aurora Skies  Static Mirage  \\\n",
       "Midnight Echo                0.5           0.0          0.80            1.0   \n",
       "Solar Flare                  0.0           1.0          0.00            1.0   \n",
       "Velvet Pulse                 0.5           0.0          0.65            1.0   \n",
       "Neon Reverie                 0.2           0.9          0.20            1.0   \n",
       "The Silver Owls              0.0           1.0          0.00            1.0   \n",
       "\n",
       "                 Crimson Harmony  Deep Resonance  ...  Rhythm Alchemy  \\\n",
       "Midnight Echo                0.2            0.50  ...             0.2   \n",
       "Solar Flare                  0.0            0.65  ...             0.2   \n",
       "Velvet Pulse                 0.5            1.00  ...             1.0   \n",
       "Neon Reverie                 0.0            1.00  ...             0.0   \n",
       "The Silver Owls              0.9            0.00  ...             1.0   \n",
       "\n",
       "                 Cloud Nine Collective  Hypnotic Echoes  \\\n",
       "Midnight Echo                     0.80              1.0   \n",
       "Solar Flare                       0.65              0.0   \n",
       "Velvet Pulse                      1.00              0.4   \n",
       "Neon Reverie                      0.00              0.0   \n",
       "The Silver Owls                   0.65              0.0   \n",
       "\n",
       "                 The Polyrhythm Syndicate  Harmonic Dissonance  Turbo Vortex  \\\n",
       "Midnight Echo                        1.00                 0.65          1.00   \n",
       "Solar Flare                          0.65                 0.40          0.40   \n",
       "Velvet Pulse                         1.00                 0.70          0.00   \n",
       "Neon Reverie                         0.20                 0.65          0.65   \n",
       "The Silver Owls                      0.20                 0.90          0.20   \n",
       "\n",
       "                 The Jazz Nomads  The Bassline Architects  Cosmic Frequency  \\\n",
       "Midnight Echo                0.4                     0.40               1.0   \n",
       "Solar Flare                  0.4                     0.00               0.0   \n",
       "Velvet Pulse                 1.0                     0.15               1.0   \n",
       "Neon Reverie                 0.2                     0.00               0.2   \n",
       "The Silver Owls              0.2                     0.40               1.0   \n",
       "\n",
       "                 Parallel Dimension  \n",
       "Midnight Echo                   0.2  \n",
       "Solar Flare                     1.0  \n",
       "Velvet Pulse                    0.4  \n",
       "Neon Reverie                    1.0  \n",
       "The Silver Owls                 0.0  \n",
       "\n",
       "[5 rows x 35 columns]"
      ]
     },
     "execution_count": 48,
     "metadata": {},
     "output_type": "execute_result"
    }
   ],
   "source": [
    "conflicts.head()"
   ]
  },
  {
   "cell_type": "code",
   "execution_count": 54,
   "id": "0063d88b-ab8d-40f1-8a2c-75273eb17828",
   "metadata": {},
   "outputs": [
    {
     "data": {
      "text/plain": [
       "(35, 35)"
      ]
     },
     "execution_count": 54,
     "metadata": {},
     "output_type": "execute_result"
    }
   ],
   "source": [
    "conflicts.shape #35 artists"
   ]
  },
  {
   "cell_type": "markdown",
   "id": "30d968c4-da1d-4822-8092-fd5193d5c3bb",
   "metadata": {},
   "source": [
    "##### Diversity"
   ]
  },
  {
   "cell_type": "code",
   "execution_count": 8,
   "id": "0afe994b-c532-4f94-93a1-f5e019692412",
   "metadata": {},
   "outputs": [
    {
     "name": "stdout",
     "output_type": "stream",
     "text": [
      "genre\n",
      "Rock          10\n",
      "Electronic     7\n",
      "Jazz           7\n",
      "Classical      5\n",
      "Pop            3\n",
      "Hip-Hop        3\n",
      "Name: count, dtype: int64\n"
     ]
    }
   ],
   "source": [
    "#check if artists are mainly from one gender or are they equally distributed\n",
    "print(artists['genre'].value_counts())"
   ]
  },
  {
   "cell_type": "markdown",
   "id": "d8d11221-427a-4426-ae2d-c17c7b2db9e2",
   "metadata": {},
   "source": [
    "##### Popularity"
   ]
  },
  {
   "cell_type": "code",
   "execution_count": 26,
   "id": "7f6bdc38-4685-47a3-b58a-907ef2d4210e",
   "metadata": {},
   "outputs": [
    {
     "name": "stdout",
     "output_type": "stream",
     "text": [
      "[100, 99, 98, 97, 96, 95, 94, 90, 88, 85, 84, 78, 77, 75, 72, 69, 66, 64, 61, 58, 53, 51, 47, 35, 20]\n"
     ]
    }
   ],
   "source": [
    "#check the existing values of popularity\n",
    "print(sorted(artists['popularity'].unique().tolist(), reverse=True))"
   ]
  },
  {
   "cell_type": "code",
   "execution_count": 30,
   "id": "07527da1-a5b2-4646-a320-1d84d173fc39",
   "metadata": {},
   "outputs": [
    {
     "name": "stdout",
     "output_type": "stream",
     "text": [
      "Most popular artists:\n",
      "                     name       genre  popularity\n",
      "3            Neon Reverie  Electronic         100\n",
      "5            Echo Chamber  Electronic          98\n",
      "7           Static Mirage        Rock          94\n",
      "13         Lunar Spectrum        Rock          99\n",
      "14       Synthwave Saints        Rock          94\n",
      "21       Celestial Voyage  Electronic          95\n",
      "22           Quantum Beat     Hip-Hop          96\n",
      "23      Electric Serpents  Electronic          99\n",
      "25         Rhythm Alchemy        Jazz          94\n",
      "26  Cloud Nine Collective         Pop          97\n",
      "29    Harmonic Dissonance   Classical          96\n"
     ]
    }
   ],
   "source": [
    "#check the most popular artists\n",
    "print(\"Most popular artists:\")\n",
    "print(artists[artists['popularity']>90])\n",
    "# 1- Neon Reverie- Electronic - 100"
   ]
  },
  {
   "cell_type": "code",
   "execution_count": 34,
   "id": "a0458319-2463-4a5c-b817-c9331e83ae67",
   "metadata": {},
   "outputs": [
    {
     "name": "stdout",
     "output_type": "stream",
     "text": [
      "Genres maximum and mininum artists'popularity:\n",
      "            min  max\n",
      "genre               \n",
      "Classical    20   96\n",
      "Electronic   58  100\n",
      "Hip-Hop      47   96\n",
      "Jazz         35   94\n",
      "Pop          51   97\n",
      "Rock         53   99\n"
     ]
    }
   ],
   "source": [
    "print(\"Genres maximum and mininum artists'popularity:\")\n",
    "min_max_pop_by_gender= artists.groupby('genre')['popularity'].agg(['min', 'max'])\n",
    "print(min_max_pop_by_gender) #checking the genres maximum and mininum artists'popularity"
   ]
  },
  {
   "cell_type": "markdown",
   "id": "4aa923c9-7a8d-4257-9763-8a143dc2764c",
   "metadata": {},
   "source": [
    "##### Conflicts"
   ]
  },
  {
   "cell_type": "code",
   "execution_count": 72,
   "id": "415c2b81-3e9f-414e-9af4-04d8eaf41ccf",
   "metadata": {},
   "outputs": [
    {
     "data": {
      "text/plain": [
       "Static Mirage         16\n",
       "The Sonic Drifters    15\n",
       "Turbo Vortex          13\n",
       "Name: count_conflict_one, dtype: int64"
      ]
     },
     "execution_count": 72,
     "metadata": {},
     "output_type": "execute_result"
    }
   ],
   "source": [
    "#checking the artists which have the highest count of 1's\n",
    "conflicts['count_conflict_one'] = (conflicts == 1.0).sum(axis=1)\n",
    "top_3_artists = conflicts['count_conflict_one'].sort_values(ascending=False).head(3)\n",
    "top_3_artists"
   ]
  },
  {
   "cell_type": "code",
   "execution_count": 74,
   "id": "87693d43-ede0-4bbb-89fc-f6ec2161a1a5",
   "metadata": {},
   "outputs": [],
   "source": [
    "conflicts.drop(columns=['count_conflict_one'], inplace=True)"
   ]
  },
  {
   "cell_type": "code",
   "execution_count": 76,
   "id": "2e76ff6d-f01f-4395-b544-f35eb9086b3a",
   "metadata": {},
   "outputs": [
    {
     "name": "stdout",
     "output_type": "stream",
     "text": [
      "Artists with most conflicts:\n",
      "Static Mirage         23.80\n",
      "The Sonic Drifters    22.60\n",
      "Velvet Pulse          20.20\n",
      "Turbo Vortex          19.90\n",
      "Lunar Spectrum        18.45\n",
      "dtype: float64\n"
     ]
    }
   ],
   "source": [
    "#check the artists with the most conflicts overall, based on the row sum, not only on the ones\n",
    "print(\"Artists with most conflicts:\")\n",
    "conflict_total = conflicts.sum(axis=1)\n",
    "most_conflicted = conflict_total.sort_values(ascending=False)\n",
    "print(most_conflicted.head())"
   ]
  },
  {
   "cell_type": "code",
   "execution_count": 78,
   "id": "7fad47f7-055b-43d9-b95f-e435241de970",
   "metadata": {},
   "outputs": [
    {
     "name": "stdout",
     "output_type": "stream",
     "text": [
      "            artist               top_1                  top_2  \\\n",
      "0    Midnight Echo  Velvet Underground       Cosmic Frequency   \n",
      "1      Solar Flare  Velvet Underground           Echo Chamber   \n",
      "2     Velvet Pulse  Velvet Underground  Cloud Nine Collective   \n",
      "3     Neon Reverie  Parallel Dimension           Golden Ember   \n",
      "4  The Silver Owls      Lunar Spectrum         Mystic Rhythms   \n",
      "\n",
      "              top_3 artist_genre top_1_genre top_2_genre top_3_genre  \n",
      "0     Static Mirage         Rock        Rock        Rock        Rock  \n",
      "1  Celestial Voyage   Electronic        Rock  Electronic  Electronic  \n",
      "2      Neon Reverie         Jazz        Rock         Pop  Electronic  \n",
      "3      Velvet Pulse   Electronic  Electronic        Rock        Jazz  \n",
      "4      Echo Chamber    Classical        Rock   Classical  Electronic  \n"
     ]
    }
   ],
   "source": [
    "#checking if the highest conflicts of each artist are usually with artists of the same gender\n",
    "top_conflicts = {}\n",
    "for artist in conflicts.index:\n",
    "    top_3 = conflicts.loc[artist].drop(artist).sort_values(ascending=False).head(3).index.tolist()\n",
    "    top_conflicts[artist] = top_3\n",
    "\n",
    "top_conflicts_df = pd.DataFrame([\n",
    "    {'artist': artist, 'top_1': tops[0], 'top_2': tops[1], 'top_3': tops[2]}\n",
    "    for artist, tops in top_conflicts.items()\n",
    "])\n",
    "\n",
    "artists_genres = artists[['name', 'genre']]\n",
    "merged = top_conflicts_df.merge(artists_genres, left_on='artist', right_on='name').drop(columns=['name'])\n",
    "merged = merged.rename(columns={'genre': 'artist_genre'})\n",
    "\n",
    "for i in range(1, 4):\n",
    "    merged = merged.merge(artists_genres, left_on=f'top_{i}', right_on='name', how='left')\n",
    "    merged = merged.rename(columns={'genre': f'top_{i}_genre'})\n",
    "    merged.drop(columns=['name'], inplace=True)\n",
    "\n",
    "print(merged.head(5))"
   ]
  },
  {
   "cell_type": "markdown",
   "id": "0461c1a3-cea4-4538-82fc-b631231d5b84",
   "metadata": {},
   "source": [
    "**Note:** It seems that there isn't a pattern, you can have an artist that has conflicts mainly with artists of the same genre (like Midnight Echo) but at the same time, you can have an artist that has conflicts mainly with different genres (like Velvet Pulse)"
   ]
  },
  {
   "cell_type": "code",
   "execution_count": 44,
   "id": "8577aee7-7295-4310-88d6-a605a7030e45",
   "metadata": {},
   "outputs": [
    {
     "name": "stdout",
     "output_type": "stream",
     "text": [
      "\n",
      "\n",
      "For the most popular check what are the artists they have more conflicts with:\n",
      "                   artist               top_1             top_2  \\\n",
      "0            Neon Reverie  Parallel Dimension      Golden Ember   \n",
      "1            Echo Chamber  Parallel Dimension  Cosmic Frequency   \n",
      "2           Static Mirage       Midnight Echo    Lunar Spectrum   \n",
      "3          Lunar Spectrum  Velvet Underground  Synthwave Saints   \n",
      "4        Synthwave Saints       Midnight Echo    Lunar Spectrum   \n",
      "5        Celestial Voyage        Velvet Pulse      Neon Reverie   \n",
      "6            Quantum Beat     The Jazz Nomads    Deep Resonance   \n",
      "7       Electric Serpents  Parallel Dimension   Hypnotic Echoes   \n",
      "8          Rhythm Alchemy    Nightfall Sonata      Velvet Pulse   \n",
      "9   Cloud Nine Collective        Velvet Pulse   The Jazz Nomads   \n",
      "10    Harmonic Dissonance    Nightfall Sonata    Mystic Rhythms   \n",
      "\n",
      "                 top_3 artist_genre top_1_genre top_2_genre top_3_genre  \n",
      "0         Velvet Pulse   Electronic  Electronic        Rock        Jazz  \n",
      "1      The Silver Owls   Electronic  Electronic        Rock   Classical  \n",
      "2     Cosmic Frequency         Rock        Rock        Rock        Rock  \n",
      "3     Cosmic Frequency         Rock        Rock        Rock        Rock  \n",
      "4      The Silver Owls         Rock        Rock        Rock   Classical  \n",
      "5         Echo Chamber   Electronic        Jazz  Electronic  Electronic  \n",
      "6   The Sonic Drifters      Hip-Hop        Jazz        Jazz        Rock  \n",
      "7   The Sonic Drifters   Electronic  Electronic        Rock        Rock  \n",
      "8      The Jazz Nomads         Jazz   Classical        Jazz        Jazz  \n",
      "9         Turbo Vortex          Pop        Jazz        Jazz        Rock  \n",
      "10        Turbo Vortex    Classical   Classical   Classical        Rock  \n"
     ]
    }
   ],
   "source": [
    "#for the most popular artists, check what are the artists they have more conflicts with\n",
    "print('\\n')\n",
    "print(\"For the most popular check what are the artists they have more conflicts with:\")\n",
    "popular_conflicts=artists[artists['popularity']>90]['name'].tolist()\n",
    "popular_conflict_df = merged[merged['artist'].isin(popular_conflicts)].reset_index(drop=True)\n",
    "print(popular_conflict_df)\n",
    "#each artist seems to have a conflict with at least another artist from their genre or with a specific genre (for example, Cloud Nine Collective, which is a Pop artist has mainly conflicts with artists from Jazz) "
   ]
  }
 ],
 "metadata": {
  "kernelspec": {
   "display_name": "Python 3 (ipykernel)",
   "language": "python",
   "name": "python3"
  },
  "language_info": {
   "codemirror_mode": {
    "name": "ipython",
    "version": 3
   },
   "file_extension": ".py",
   "mimetype": "text/x-python",
   "name": "python",
   "nbconvert_exporter": "python",
   "pygments_lexer": "ipython3",
   "version": "3.12.4"
  }
 },
 "nbformat": 4,
 "nbformat_minor": 5
}
